{
 "cells": [
  {
   "cell_type": "markdown",
   "metadata": {},
   "source": [
    "# For Loop"
   ]
  },
  {
   "cell_type": "markdown",
   "metadata": {},
   "source": [
    "Iterate over list, rang (enumerator)"
   ]
  },
  {
   "cell_type": "code",
   "execution_count": 1,
   "metadata": {},
   "outputs": [
    {
     "name": "stdout",
     "output_type": "stream",
     "text": [
      "1\n",
      "2\n",
      "3\n",
      "4\n",
      "5\n",
      "1\n",
      "2\n",
      "3\n",
      "4\n",
      "5\n"
     ]
    }
   ],
   "source": [
    "numbers = [1,2,3,4,5] # list of int\n",
    "\n",
    "counter = 0\n",
    "while counter<len(numbers):\n",
    "    print(numbers[counter])\n",
    "    counter+=1\n",
    "\n",
    "\n",
    "for num in numbers:\n",
    "    print(num)\n"
   ]
  },
  {
   "cell_type": "markdown",
   "metadata": {},
   "source": [
    "New list of even numbers from given list"
   ]
  },
  {
   "cell_type": "code",
   "execution_count": 3,
   "metadata": {},
   "outputs": [
    {
     "name": "stdout",
     "output_type": "stream",
     "text": [
      "2\n",
      "4\n",
      "6\n",
      "8\n",
      "10\n",
      "[2, 4, 6, 8, 10]\n"
     ]
    }
   ],
   "source": [
    "numbers = [1,2,3,4,5,6,7,8,9,10] # list of int\n",
    "\n",
    "# create new list of even numbers from int\n",
    "even_list = []\n",
    "#iterate over list\n",
    "for num in numbers:\n",
    "    if num % 2==0:\n",
    "        print(num)\n",
    "        even_list.append(num)\n",
    "print(even_list)\n",
    "\n"
   ]
  },
  {
   "cell_type": "markdown",
   "metadata": {},
   "source": [
    "Remove Duplicate Items from Given List"
   ]
  },
  {
   "cell_type": "code",
   "execution_count": 6,
   "metadata": {},
   "outputs": [
    {
     "name": "stdout",
     "output_type": "stream",
     "text": [
      "[1, 2, 3, 4, 5, 6, 7, 8, 11, 100]\n"
     ]
    }
   ],
   "source": [
    "numbers = [1,1,2,3,4,5,3,6,7,8,5,11,100] #list of int\n",
    "\n",
    "#create new list by duplicating items from given list \n",
    "unique_numbers = []\n",
    "\n",
    "for num in numbers:\n",
    "    if num not in unique_numbers:\n",
    "        unique_numbers.append(num)\n",
    "\n",
    "print(unique_numbers)\n",
    "    "
   ]
  },
  {
   "cell_type": "markdown",
   "metadata": {},
   "source": [
    "range(start,stop,step)"
   ]
  },
  {
   "cell_type": "code",
   "execution_count": 9,
   "metadata": {},
   "outputs": [
    {
     "name": "stdout",
     "output_type": "stream",
     "text": [
      "1\n",
      "2\n",
      "3\n",
      "4\n",
      "5\n",
      "6\n",
      "7\n",
      "8\n",
      "9\n"
     ]
    }
   ],
   "source": [
    "range_of_100 = range(1,10)\n",
    "\n",
    "for i in range(1,10): # for i=0;i<10;i++\n",
    "    print (i)"
   ]
  },
  {
   "cell_type": "markdown",
   "metadata": {},
   "source": [
    "# inline for loop"
   ]
  },
  {
   "cell_type": "code",
   "execution_count": 23,
   "metadata": {},
   "outputs": [
    {
     "name": "stdout",
     "output_type": "stream",
     "text": [
      "[2, 6, 88]\n",
      "[1, 200, 3, 5, 600, 8800, 19]\n"
     ]
    }
   ],
   "source": [
    "numbers = [1,2,3,5,6,88,19]\n",
    "list_of_even_numbers = [num for num in numbers if num %2==0 ]\n",
    "print(list_of_even_numbers)\n",
    "\n",
    "\n",
    "\n",
    "\n",
    "numbers = [1,2,3,5,6,88,19]\n",
    "transformed_list = [(num *100 if num%2==0 else num) for num in numbers]\n",
    "print(transformed_list)"
   ]
  },
  {
   "cell_type": "markdown",
   "metadata": {},
   "source": [
    "# Functions"
   ]
  },
  {
   "cell_type": "code",
   "execution_count": 26,
   "metadata": {},
   "outputs": [
    {
     "name": "stdout",
     "output_type": "stream",
     "text": [
      "55\n",
      "110\n"
     ]
    }
   ],
   "source": [
    "def add(x,y):\n",
    "    sum = x+y\n",
    "    return sum\n",
    "\n",
    "sum_of_two_numbers = add(x=10,y=45)\n",
    "print(sum_of_two_numbers)\n",
    "print(add(10,100))"
   ]
  },
  {
   "cell_type": "code",
   "execution_count": 31,
   "metadata": {},
   "outputs": [
    {
     "name": "stdout",
     "output_type": "stream",
     "text": [
      "392\n",
      "115\n"
     ]
    }
   ],
   "source": [
    "def multiply(x,y):\n",
    "    multiply = x*y\n",
    "    return multiply\n",
    "\n",
    "multiply_of_two_numbers = multiply(x=56,y=7)\n",
    "print(multiply_of_two_numbers)\n",
    "print(multiply(23,5))"
   ]
  }
 ],
 "metadata": {
  "kernelspec": {
   "display_name": "Python 3",
   "language": "python",
   "name": "python3"
  },
  "language_info": {
   "codemirror_mode": {
    "name": "ipython",
    "version": 3
   },
   "file_extension": ".py",
   "mimetype": "text/x-python",
   "name": "python",
   "nbconvert_exporter": "python",
   "pygments_lexer": "ipython3",
   "version": "3.12.4"
  }
 },
 "nbformat": 4,
 "nbformat_minor": 2
}
