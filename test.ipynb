{
 "cells": [
  {
   "cell_type": "markdown",
   "metadata": {},
   "source": [
    "Week 1 - Assignment\n",
    "\n",
    "My name is Samyog Paudel, and in our course, PRG330: Python Programming with Data, we kicked off by diving into foundational Python principles using Jupyter Notebook.\n",
    "\n",
    "This week's lessons covered crucial Python elements, starting with the classic 'Hello World' program and expanding into core concepts such as functions, variables, and data types, including lists, tuples, and dictionaries. We also explored flow control, conditional statements, and while loops. Additionally, we practiced various list operations like appending, popping, counting, inserting, extending, copying, clearing, iterating through lists, identifying maximum and minimum values, and merging list items into a single string."
   ]
  },
  {
   "cell_type": "markdown",
   "metadata": {},
   "source": [
    "# this is my first hello world program in python"
   ]
  },
  {
   "cell_type": "code",
   "execution_count": 15,
   "metadata": {},
   "outputs": [
    {
     "name": "stdout",
     "output_type": "stream",
     "text": [
      "hello world\n",
      "5 10\n"
     ]
    }
   ],
   "source": [
    "hello = \"hello world\"\n",
    "print(hello)\n",
    "\n",
    "a = 5\n",
    "b = 10\n",
    "print(a,b)"
   ]
  },
  {
   "cell_type": "code",
   "execution_count": 1,
   "metadata": {},
   "outputs": [
    {
     "name": "stdout",
     "output_type": "stream",
     "text": [
      "13\n",
      "SAMYOG PAUDEL\n",
      "S\n",
      "L\n",
      "SAMYOG PAUDEL SAMYOG PAUDEL\n"
     ]
    }
   ],
   "source": [
    "name = 'SAMYOG PAUDEL'\n",
    "total_no_of_Char = len(name)\n",
    "print(total_no_of_Char)\n",
    "\n",
    "first_name = name[0:6]\n",
    "last_name = name[7:]\n",
    "print(first_name, last_name)\n",
    "\n",
    "first_char = name[0]\n",
    "print(first_char)\n",
    "\n",
    "last_char = name[len(name)-1]\n",
    "print(last_char)\n",
    "\n",
    "full_name = first_name + \" \" + last_name\n",
    "full_name1 = f\"{first_name} {last_name}\"\n",
    "print(full_name, full_name1)\n",
    "\n"
   ]
  },
  {
   "cell_type": "markdown",
   "metadata": {},
   "source": [
    "## flow control\n",
    "    ## conditional statement\n",
    "        -if\n",
    "        -elif\n",
    "        -else"
   ]
  },
  {
   "cell_type": "code",
   "execution_count": 17,
   "metadata": {},
   "outputs": [
    {
     "name": "stdout",
     "output_type": "stream",
     "text": [
      "I have to wake up at 5:00 am\n",
      "I have to got to office\n",
      "Its Wednesday\n"
     ]
    }
   ],
   "source": [
    "day = 4\n",
    "if day == 4:\n",
    "    print(\"I have to wake up at 5:00 am\")\n",
    "    print(\"I have to got to office\")\n",
    "    print(\"Its Wednesday\")\n",
    "elif day == 5:\n",
    "    print (\"Its Thursday\")\n",
    "else:\n",
    "    print(\"Weekend\")"
   ]
  },
  {
   "cell_type": "code",
   "execution_count": 18,
   "metadata": {},
   "outputs": [
    {
     "name": "stdout",
     "output_type": "stream",
     "text": [
      "a is less than b\n"
     ]
    }
   ],
   "source": [
    "a = 5\n",
    "b = 10\n",
    "if a>b:\n",
    "    print(\"a is greater than b\")\n",
    "else:\n",
    "    print(\"a is less than b\")"
   ]
  },
  {
   "cell_type": "code",
   "execution_count": 19,
   "metadata": {},
   "outputs": [
    {
     "name": "stdout",
     "output_type": "stream",
     "text": [
      "It's Math class\n"
     ]
    }
   ],
   "source": [
    "time = 10\n",
    "if time>=10 and time<12:\n",
    "    print(\"It's Math class\")\n",
    "elif time>=12 and time<14:\n",
    "    print(\"It's DSA class\")\n",
    "elif time>14:\n",
    "    print(\"It's English class\")\n",
    "else: \n",
    "    print(\"Just started my day\")"
   ]
  },
  {
   "cell_type": "code",
   "execution_count": 20,
   "metadata": {},
   "outputs": [
    {
     "name": "stdout",
     "output_type": "stream",
     "text": [
      "hello world\n",
      "5 10\n"
     ]
    }
   ],
   "source": [
    "hello = \"hello world\"\n",
    "print(hello)\n",
    "\n",
    "a = 5\n",
    "b = 10\n",
    "print(a,b)\n"
   ]
  },
  {
   "cell_type": "code",
   "execution_count": 21,
   "metadata": {},
   "outputs": [
    {
     "name": "stdout",
     "output_type": "stream",
     "text": [
      "Hello 1\n",
      "Hello 2\n",
      "Hello 3\n",
      "Hello 4\n",
      "Hello 5\n",
      "Hello 6\n",
      "Hello 7\n",
      "Hello 8\n",
      "Hello 9\n",
      "Hello 10\n"
     ]
    }
   ],
   "source": [
    "from time import sleep\n",
    "counter = 1\n",
    "while counter<=10:\n",
    "    print(f\"Hello {counter}\")\n",
    "    counter += 1\n",
    "    sleep (1)"
   ]
  },
  {
   "cell_type": "code",
   "execution_count": 22,
   "metadata": {},
   "outputs": [
    {
     "name": "stdout",
     "output_type": "stream",
     "text": [
      "Hello 1\n",
      "Hello 2\n",
      "Hello 3\n",
      "Hello 4\n",
      "Hello 5\n",
      "Hello 6\n",
      "Hello 7\n",
      "Hello 8\n",
      "Hello 9\n",
      "Hello 10\n"
     ]
    }
   ],
   "source": [
    "from time import sleep\n",
    "counter = 1\n",
    "while counter<=10:\n",
    "    print(f\"Hello {counter}\")\n",
    "    counter +=1\n",
    "    sleep(1)"
   ]
  },
  {
   "cell_type": "code",
   "execution_count": 14,
   "metadata": {},
   "outputs": [
    {
     "name": "stdout",
     "output_type": "stream",
     "text": [
      "5050\n"
     ]
    }
   ],
   "source": [
    "# find the sum of first n =100 natural numbers using loop\n",
    "\n",
    "\n",
    "i = 0\n",
    "n = 100\n",
    "sum = 0\n",
    "while i<=n:\n",
    "    sum+=i\n",
    "    i+=1\n",
    "print(sum)"
   ]
  },
  {
   "cell_type": "code",
   "execution_count": 23,
   "metadata": {},
   "outputs": [
    {
     "name": "stdout",
     "output_type": "stream",
     "text": [
      "2550\n"
     ]
    }
   ],
   "source": [
    "# find the sum of first even numbers, n =100 using while loop\n",
    "\n",
    "i=0\n",
    "n=100\n",
    "sum = 0\n",
    "while i<=n:\n",
    "    sum+=i\n",
    "    i+=2\n",
    "print(sum)"
   ]
  },
  {
   "cell_type": "code",
   "execution_count": 24,
   "metadata": {},
   "outputs": [
    {
     "name": "stdout",
     "output_type": "stream",
     "text": [
      "2550\n"
     ]
    }
   ],
   "source": [
    "# find the sum of first even numbers, n =100 using while loop\n",
    "\n",
    "i = 1\n",
    "n = 100\n",
    "sum = 0\n",
    "\n",
    "while i<=n:\n",
    "    if i%2==0:\n",
    "        sum+=i\n",
    "    i+=1\n",
    "print(sum)"
   ]
  },
  {
   "cell_type": "markdown",
   "metadata": {},
   "source": [
    "### Data Types (List, Tuple, Set, Dictionary)"
   ]
  },
  {
   "cell_type": "code",
   "execution_count": 1,
   "metadata": {},
   "outputs": [
    {
     "name": "stdout",
     "output_type": "stream",
     "text": [
      "1\n",
      "6\n",
      "5\n"
     ]
    }
   ],
   "source": [
    "numbers = [1,2,3,4,5,5]\n",
    "students = ['Ram','Hari']\n",
    "\n",
    "# access elements from list\n",
    "first_number = numbers[0]\n",
    "print(first_number)\n",
    "# count total number of items\n",
    "total_items = len(numbers)\n",
    "print(total_items)\n",
    "# last element\n",
    "last_element = numbers[len(numbers)-1]\n",
    "print(last_element)"
   ]
  },
  {
   "cell_type": "markdown",
   "metadata": {},
   "source": [
    "# list elememts\n",
    "- append (Appends new item at the end)\n",
    "- pop (removes last element)\n",
    "- count (return total number of item)\n",
    "- insert (Insert item at partiucular index)\n",
    "- extend ()\n",
    "- copy ()\n",
    "- clear (delete all items)"
   ]
  },
  {
   "cell_type": "code",
   "execution_count": 4,
   "metadata": {},
   "outputs": [
    {
     "name": "stdout",
     "output_type": "stream",
     "text": [
      "[1, 5, 6, 7, 8]\n",
      "[1, 5, 6, 7, 8, 9]\n",
      "[1, 5, 6, 7, 8]\n",
      "[1, 6, 7, 8]\n",
      "[1, 6, 5, 7, 8]\n",
      "[1, 2, 3, 4]\n"
     ]
    }
   ],
   "source": [
    "numbers = [1,5,6,7,8,]\n",
    "print(numbers)\n",
    "#Append tems\n",
    "numbers.append(9)\n",
    "print (numbers)\n",
    "# remove \n",
    "numbers.pop()\n",
    "print(numbers)\n",
    "# remove \n",
    "numbers.remove(5)\n",
    "print (numbers)\n",
    "#insert \n",
    "numbers.insert(2,5,)\n",
    "print(numbers)\n",
    "\n",
    "numbers_1 = [1,2]\n",
    "numbers_2 = [3,4]\n",
    "numbers_1.extend(numbers_2)\n",
    "print(numbers_1)"
   ]
  },
  {
   "cell_type": "code",
   "execution_count": 7,
   "metadata": {},
   "outputs": [
    {
     "name": "stdout",
     "output_type": "stream",
     "text": [
      "['Ram', 'Hari', 'Gopal']\n",
      "6 5\n",
      "['Ram', 'Hari']\n",
      "Ram exist in a\n"
     ]
    }
   ],
   "source": [
    "students = ['Ram','Hari']\n",
    "new_students = students\n",
    "students.append('Gopal')\n",
    "print(new_students)\n",
    "#\n",
    "a = 5\n",
    "b = a\n",
    "a = a+1\n",
    "print(a,b)\n",
    "\n",
    "a = ['Ram','Hari']\n",
    "b = a.copy()\n",
    "a.append('Gopal')\n",
    "print(b)\n",
    "# check value exist in list\n",
    "if 'Ram' in a:\n",
    "    print('Ram exist in a')\n"
   ]
  },
  {
   "cell_type": "markdown",
   "metadata": {},
   "source": [
    "# loop through list"
   ]
  },
  {
   "cell_type": "code",
   "execution_count": 9,
   "metadata": {},
   "outputs": [
    {
     "name": "stdout",
     "output_type": "stream",
     "text": [
      "6\n"
     ]
    }
   ],
   "source": [
    "# find the sum of all intems of given list\n",
    "numbers = [1,2,3,4,5,6,6]\n",
    "\n",
    "total_items = len(numbers)\n",
    "index = 0\n",
    "sum = 0\n",
    "\n",
    "while index<total_items:\n",
    "    sum = numbers[index]\n",
    "    index+=1\n",
    "\n",
    "print(sum)"
   ]
  },
  {
   "cell_type": "markdown",
   "metadata": {},
   "source": [
    "# find the max value from the given list\n",
    "\n",
    "- numbers = [-10,3,9,-50,100,1009]"
   ]
  },
  {
   "cell_type": "code",
   "execution_count": 13,
   "metadata": {},
   "outputs": [
    {
     "name": "stdout",
     "output_type": "stream",
     "text": [
      "1009\n"
     ]
    }
   ],
   "source": [
    "numbers = [-10,3,9,-50,100,1009]\n",
    "\n",
    "index = 0\n",
    "total_items = len(numbers)\n",
    "max_value = numbers[0]\n",
    "while index<total_items:\n",
    "    item = numbers[index]\n",
    "    if item>max_value:\n",
    "        max_value = item\n",
    "    index+=1\n",
    "\n",
    "print(max_value)"
   ]
  },
  {
   "cell_type": "code",
   "execution_count": 14,
   "metadata": {},
   "outputs": [
    {
     "name": "stdout",
     "output_type": "stream",
     "text": [
      "-50\n"
     ]
    }
   ],
   "source": [
    "# find minimum value\n",
    "numbers = [-10, 3, 9, -50, 100, 1009]\n",
    "\n",
    "index = 0\n",
    "total_items = len(numbers)\n",
    "min_value = numbers[0]\n",
    "\n",
    "while index < total_items:\n",
    "    item = numbers[index]\n",
    "    if item < min_value:\n",
    "        min_value = item\n",
    "    index += 1\n",
    "\n",
    "print(min_value)"
   ]
  },
  {
   "cell_type": "markdown",
   "metadata": {},
   "source": [
    "# join all list items into single string"
   ]
  },
  {
   "cell_type": "code",
   "execution_count": 16,
   "metadata": {},
   "outputs": [
    {
     "name": "stdout",
     "output_type": "stream",
     "text": [
      "Ram-Hari-Gopal\n"
     ]
    }
   ],
   "source": [
    "students = ['Ram','Hari','Gopal']\n",
    "all_students = '-'.join(students)\n",
    "print(all_students)"
   ]
  }
 ],
 "metadata": {
  "kernelspec": {
   "display_name": "Python 3",
   "language": "python",
   "name": "python3"
  },
  "language_info": {
   "codemirror_mode": {
    "name": "ipython",
    "version": 3
   },
   "file_extension": ".py",
   "mimetype": "text/x-python",
   "name": "python",
   "nbconvert_exporter": "python",
   "pygments_lexer": "ipython3",
   "version": "3.12.4"
  }
 },
 "nbformat": 4,
 "nbformat_minor": 2
}
